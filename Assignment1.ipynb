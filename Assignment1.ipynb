{
 "cells": [
  {
   "cell_type": "markdown",
   "id": "d0bf7b82",
   "metadata": {},
   "source": [
    "## **I - Math Assignment**\n",
    "\n"
   ]
  },
  {
   "cell_type": "markdown",
   "id": "8b2447c4",
   "metadata": {},
   "source": []
  },
  {
   "cell_type": "markdown",
   "id": "bd8d5424",
   "metadata": {},
   "source": [
    "## **II - Coding Assignment**"
   ]
  },
  {
   "cell_type": "code",
   "execution_count": null,
   "id": "3004311f",
   "metadata": {},
   "outputs": [],
   "source": [
    "# Import libraries\n",
    "import pandas as pd\n",
    "import numpy as np\n",
    "import torch \n",
    "from torch.utils.data import Dataset, DataLoader\n",
    "import torch.nn as nn\n",
    "import torch.optim as optim\n",
    "from sklearn.metrics import mean_squared_error, r2_score\n",
    "import matplotlib.pyplot as plt"
   ]
  },
  {
   "cell_type": "markdown",
   "id": "2c9e4c61",
   "metadata": {},
   "source": [
    "### a - Read and preprocess the dataset using pandas"
   ]
  },
  {
   "cell_type": "code",
   "execution_count": null,
   "id": "4a3c94b8",
   "metadata": {},
   "outputs": [],
   "source": [
    "# 1. Load the dataset\n",
    "df = pd.read_csv('bikeRidershipPredictionDataHour.csv')\n",
    "\n",
    "\n",
    "# 2. Modify the categorial variables into dummy variables\n",
    "categorical_vars = ['season', 'weathersit', 'mnth', 'hr', 'weekday']\n",
    "df = pd.get_dummies(df, columns=categorical_vars, drop_first=True)\n",
    "\n",
    "\n",
    "# 3. Normalize continuous variables and the target using z-score\n",
    "continuous_vars = ['temp', 'atemp', 'hum', 'windspeed', 'cnt']\n",
    "means_std = {}\n",
    "\n",
    "for col in continuous_vars:\n",
    "    mean = df[col].mean()\n",
    "    std = df[col].std()\n",
    "    df[col] = (df[col] - mean) / std\n",
    "    means_std[col] = (mean, std)\n",
    "\n",
    "\n",
    "# 4. Exclude the useless features in your training and modeling\n",
    "df.drop(['instant', 'dteday', 'casual', 'registered'], axis=1, inplace=True)\n",
    "\n",
    "\n",
    "# 5. Separate the training and validation data (last 21 days for validation)\n",
    "validation_set_size = 21 * 24 # 21 days * 24 hours\n",
    "train_df = df[:-validation_set_size]\n",
    "val_df = df[-validation_set_size:]\n",
    "\n",
    "\n",
    "# 6. Preparing features and targets\n",
    "X_train = train_df.drop('cnt', axis=1).values.astype(np.float32)\n",
    "y_train = train_df['cnt'].values.astype(np.float32)\n",
    "\n",
    "X_val = val_df.drop('cnt', axis=1).values.astype(np.float32)\n",
    "y_val = val_df['cnt'].values.astype(np.float32)"
   ]
  },
  {
   "cell_type": "markdown",
   "id": "222bae86",
   "metadata": {},
   "source": [
    "### b - Develop a neural network in PyTorch to model and predit 'cnt'"
   ]
  },
  {
   "cell_type": "code",
   "execution_count": null,
   "id": "31344a0e",
   "metadata": {},
   "outputs": [],
   "source": [
    "# 1. Create PyTorch Dataset and DataLoader\n",
    "# Custom Dataset definition:\n",
    "class BikeDataset(Dataset):\n",
    "    def __init__(self, X, y):\n",
    "        self.X = torch.tensor(X, dtype=torch.float32)\n",
    "        self.y = torch.tensor(y, dtype=torch.float32).unsqueeze(1)\n",
    "    \n",
    "    def __len__(self):\n",
    "        return len(self.X)\n",
    "    \n",
    "    def __getitem__(self, idx):\n",
    "        return self.X[idx], self.y[idx]\n",
    "\n",
    "# Create PyTorch Dataset\n",
    "train_dataset = BikeDataset(X_train, y_train)\n",
    "val_dataset = BikeDataset(X_val, y_val)\n",
    "\n",
    "# Create DataLoader\n",
    "batch_size = 64\n",
    "train_loader = DataLoader(train_dataset, batch_size=batch_size, shuffle=True)\n",
    "val_loader = DataLoader(val_dataset, batch_size=batch_size, shuffle=False)"
   ]
  },
  {
   "cell_type": "code",
   "execution_count": null,
   "id": "9e73ca16",
   "metadata": {},
   "outputs": [],
   "source": [
    "# 2. Building the Neural Network Model \n",
    "class FlexibleBikeNet(nn.Module):\n",
    "    def __init__(self, input_dim, hidden_layers_sizes=[64, 32]):\n",
    "        super(FlexibleBikeNet, self).__init__()\n",
    "        layers = []\n",
    "        prev_size = input_dim\n",
    "        # Create hidden layers dynamically\n",
    "        for layer_size in hidden_layers_sizes:\n",
    "            layers.append(nn.Linear(prev_size, layer_size))\n",
    "            layers.append(nn.ReLU())\n",
    "            prev_size = layer_size\n",
    "        layers.append(nn.Linear(prev_size, 1))  # Output layer\n",
    "        self.model = nn.Sequential(*layers)\n",
    "\n",
    "    def forward(self, x):\n",
    "        return self.model(x)"
   ]
  },
  {
   "cell_type": "code",
   "execution_count": null,
   "id": "d7a4cd80",
   "metadata": {},
   "outputs": [],
   "source": [
    "# 4. Training the Model\n",
    "# Experiment with Different Structures & Optimizers \n",
    "experiment_configs = [\n",
    "    {'layers': [64], 'optimizer': optim.Adam, 'lr': 0.001, 'epochs': 50},\n",
    "    {'layers': [128, 64], 'optimizer': optim.Adam, 'lr': 0.0005, 'epochs': 70},\n",
    "    {'layers': [128, 64, 32], 'optimizer': optim.Adam, 'lr': 0.0005, 'epochs': 70},\n",
    "    {'layers': [256, 128, 64], 'optimizer': optim.SGD, 'lr': 0.01, 'epochs': 100},\n",
    "]\n",
    "\n",
    "results_summary = []\n",
    "best_model, best_r2 = None, -np.inf\n",
    "\n",
    "for idx, config in enumerate(experiment_configs, 1):\n",
    "    print(f\"\\nExperiment {idx}/{len(experiment_configs)} - config: {config}\")\n",
    "\n",
    "    model = FlexibleBikeNet(X_train.shape[1], config['layers'])\n",
    "    criterion = nn.MSELoss()\n",
    "    optimizer = config['optimizer'](model.parameters(), lr=config['lr'])\n",
    "\n",
    "    for epoch in range(config['epochs']):\n",
    "        model.train()\n",
    "        epoch_loss = 0\n",
    "        for X_batch, y_batch in train_loader:\n",
    "            optimizer.zero_grad()\n",
    "            outputs = model(X_batch)\n",
    "            loss = criterion(outputs, y_batch)\n",
    "            loss.backward()\n",
    "            optimizer.step()\n",
    "            epoch_loss += loss.item() * X_batch.size(0)\n",
    "        epoch_loss /= len(train_loader.dataset)\n",
    "\n",
    "        # Optional: Print every 10 epochs\n",
    "        if (epoch+1) % 10 == 0:\n",
    "            print(f\"Epoch {epoch+1}/{config['epochs']} - Loss: {epoch_loss:.4f}\")\n",
    "\n",
    "    # Evaluate on validation set\n",
    "    model.eval()\n",
    "    with torch.no_grad():\n",
    "        val_preds = model(torch.tensor(X_val, dtype=torch.float32)).numpy().flatten()\n",
    "        val_mse = mean_squared_error(y_val, val_preds)\n",
    "        val_r2 = r2_score(y_val, val_preds)\n",
    "\n",
    "    print(f\"Validation R2: {val_r2:.4f}, Validation MSE: {val_mse:.4f}\")\n",
    "\n",
    "    results_summary.append({\n",
    "        'config': config,\n",
    "        'val_r2': val_r2,\n",
    "        'val_mse': val_mse\n",
    "    })\n",
    "\n",
    "    # Track best model\n",
    "    if val_r2 > best_r2:\n",
    "        best_r2 = val_r2\n",
    "        best_model = model"
   ]
  },
  {
   "cell_type": "code",
   "execution_count": null,
   "id": "23621ab6",
   "metadata": {},
   "outputs": [],
   "source": [
    "# 5. Evaluate validation results using R-square and MSE\n",
    "print(\"\\n=== Experiment Summary ===\")\n",
    "for idx, res in enumerate(results_summary, 1):\n",
    "    print(f\"\\nExperiment {idx}:\")\n",
    "    print(f\"Configuration: {res['config']}\")\n",
    "    print(f\"Validation R-square: {res['val_r2']:.4f}\")\n",
    "    print(f\"Validation MSE: {res['val_mse']:.4f}\")"
   ]
  },
  {
   "cell_type": "code",
   "execution_count": null,
   "id": "980b9185",
   "metadata": {},
   "outputs": [],
   "source": [
    "# 6. Visualize the Best Model's Predictions\n",
    "best_model.eval()\n",
    "with torch.no_grad():\n",
    "    best_preds = best_model(torch.tensor(X_val, dtype=torch.float32)).numpy().flatten()\n",
    "\n",
    "# Restore original scale for visualization\n",
    "cnt_mean, cnt_std = means_std['cnt']\n",
    "true_vals_original = y_val * cnt_std + cnt_mean\n",
    "pred_vals_original = best_preds * cnt_std + cnt_mean\n",
    "\n",
    "plt.figure(figsize=(15,6))\n",
    "plt.plot(true_vals_original, label='Actual', color='blue')\n",
    "plt.plot(pred_vals_original, label='Prediction', color='red', alpha=0.7)\n",
    "plt.xlabel(\"Hourly Time Steps\")\n",
    "plt.ylabel(\"Bike Count (original scale)\")\n",
    "plt.title(\"Best Model Predictions vs Actual values\")\n",
    "plt.legend()\n",
    "plt.show()"
   ]
  }
 ],
 "metadata": {
  "kernelspec": {
   "display_name": "mycondaenv",
   "language": "python",
   "name": "python3"
  },
  "language_info": {
   "codemirror_mode": {
    "name": "ipython",
    "version": 3
   },
   "file_extension": ".py",
   "mimetype": "text/x-python",
   "name": "python",
   "nbconvert_exporter": "python",
   "pygments_lexer": "ipython3",
   "version": "3.12.9"
  }
 },
 "nbformat": 4,
 "nbformat_minor": 5
}
